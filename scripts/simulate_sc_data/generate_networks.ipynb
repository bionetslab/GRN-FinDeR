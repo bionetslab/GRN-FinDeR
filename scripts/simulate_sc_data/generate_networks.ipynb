{
 "cells": [
  {
   "cell_type": "code",
   "execution_count": null,
   "id": "c7192bcc",
   "metadata": {},
   "outputs": [],
   "source": [
    "import decoupler\n",
    "ct = decoupler.op.collectri()\n",
    "ct.target.value_counts()"
   ]
  }
 ],
 "metadata": {
  "language_info": {
   "name": "python"
  }
 },
 "nbformat": 4,
 "nbformat_minor": 5
}
