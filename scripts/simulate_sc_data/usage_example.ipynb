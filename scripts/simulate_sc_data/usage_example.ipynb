{
 "cells": [
  {
   "cell_type": "code",
   "execution_count": null,
   "id": "36f439c1",
   "metadata": {},
   "outputs": [],
   "source": [
    "import pandas as pd\n",
    "from arboreto.algo import grnboost2_fdr, grnboost2\n",
    "import numpy as np\n",
    "\n",
    "# Load expression matrix - in this case simulate one.\n",
    "exp_data = np.random.randn(100, 10)\n",
    "exp_df = pd.DataFrame(exp_data)\n",
    "\n",
    "exp_df.columns = [f'Gene{i}' for i in range(exp_df.shape[1])]\n",
    "\n",
    "# RUN standard GRN boost to obtain network\n",
    "network = grnboost2(expression_data=exp_df)\n",
    "\n",
    "# Run approximate FDR control.\n",
    "fdr_grn = grnboost2_fdr(\n",
    "            expression_data=exp_df,\n",
    "            cluster_representative_mode=\"random\",\n",
    "            num_target_clusters=5,\n",
    "            num_tf_clusters=-1,\n",
    "            input_grn=network\n",
    "        )"
   ]
  }
 ],
 "metadata": {
  "kernelspec": {
   "display_name": "pixi_grnfinder",
   "language": "python",
   "name": "pixi_grnfinder"
  },
  "language_info": {
   "codemirror_mode": {
    "name": "ipython",
    "version": 3
   },
   "file_extension": ".py",
   "mimetype": "text/x-python",
   "name": "python",
   "nbconvert_exporter": "python",
   "pygments_lexer": "ipython3",
   "version": "3.11.13"
  }
 },
 "nbformat": 4,
 "nbformat_minor": 5
}
